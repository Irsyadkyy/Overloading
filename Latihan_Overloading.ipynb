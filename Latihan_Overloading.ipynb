{
  "nbformat": 4,
  "nbformat_minor": 0,
  "metadata": {
    "colab": {
      "provenance": [],
      "include_colab_link": true
    },
    "kernelspec": {
      "name": "python3",
      "display_name": "Python 3"
    },
    "language_info": {
      "name": "python"
    }
  },
  "cells": [
    {
      "cell_type": "markdown",
      "metadata": {
        "id": "view-in-github",
        "colab_type": "text"
      },
      "source": [
        "<a href=\"https://colab.research.google.com/github/Irsyadkyy/Overloading/blob/main/Latihan_Overloading.ipynb\" target=\"_parent\"><img src=\"https://colab.research.google.com/assets/colab-badge.svg\" alt=\"Open In Colab\"/></a>"
      ]
    },
    {
      "cell_type": "code",
      "source": [
        "#class Nama\n",
        "class Nama:\n",
        "  def hasil(self, *args):\n",
        "        kalimat = \"\"\n",
        "        for kata in args:\n",
        "            kalimat += kata\n",
        "        print(kalimat)"
      ],
      "metadata": {
        "id": "gCcigrY6wrlg"
      },
      "execution_count": 17,
      "outputs": []
    },
    {
      "cell_type": "code",
      "source": [
        "class Nama:\n",
        "  def kalimat(self, namadepan = \"\", namatengah = \"\", namatengah2 = \"\", namaakhir = \"\"):\n",
        "    print(namadepan + namatengah + namatengah2 + namaakhir)"
      ],
      "metadata": {
        "id": "6Ps0GIEPxXxw"
      },
      "execution_count": 21,
      "outputs": []
    },
    {
      "cell_type": "code",
      "source": [
        "#Buat main program\n",
        "#Panggil fungsi untuk membuat nama lengkap 4 nama teman kalian\n",
        "coba = Nama()\n",
        "\n",
        "coba.hasil(\"Achmad\", \" Ifan\", \" Pratama\")\n",
        "coba.hasil(\"Rexza\", \" Arya\", \" Nanda\", \" Lubis\")\n",
        "coba.hasil(\"Irsyad\", \" Rizky\", \" Widodo\")\n",
        "coba.hasil(\"Romi\", \" Seti\", \" awan\")\n",
        ""
      ],
      "metadata": {
        "id": "YFygL6C8wvOt",
        "outputId": "978532b1-7f3c-49b1-a316-0d3b37242828",
        "colab": {
          "base_uri": "https://localhost:8080/"
        }
      },
      "execution_count": 19,
      "outputs": [
        {
          "output_type": "stream",
          "name": "stdout",
          "text": [
            "Achmad Ifan Pratama\n",
            "Rexza Arya Nanda Lubis\n",
            "Irsyad Rizky Widodo\n",
            "Romi Seti awan\n"
          ]
        }
      ]
    },
    {
      "cell_type": "markdown",
      "source": [
        "kesimpulan dari konsep overloading bahwa class di atas yang bernama class nama memiliki fungsi overloading yang diamana menggabungkan kata per kata\n",
        "cara bekerjanya adalah fungsi tersebut mempunyai 4 parameter yang bernama (namadepan,namatengah,namatengah2,namaakhir) dan fungsi tersebut bisa menggabungkan parameter dengan parameter lainnya tanpa adanya perulangan\n",
        "\n",
        "contoh:jika parameter tersebut bernama namadepan dan parameter tersebut diisi menjadi \"rexza\" dan parameter2 bernama namatengah dan diisi \"arya\" maka output nya menjadi rexza arya"
      ],
      "metadata": {
        "id": "nB4aKtpYxqPo"
      }
    }
  ]
}